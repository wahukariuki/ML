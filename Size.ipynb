{
 "cells": [
  {
   "cell_type": "code",
   "execution_count": 71,
   "id": "1fcd4f47",
   "metadata": {},
   "outputs": [],
   "source": [
    "import pandas as pd\n",
    "import numpy as np"
   ]
  },
  {
   "cell_type": "code",
   "execution_count": 72,
   "id": "19e3c24a",
   "metadata": {},
   "outputs": [
    {
     "data": {
      "text/html": [
       "<div>\n",
       "<style scoped>\n",
       "    .dataframe tbody tr th:only-of-type {\n",
       "        vertical-align: middle;\n",
       "    }\n",
       "\n",
       "    .dataframe tbody tr th {\n",
       "        vertical-align: top;\n",
       "    }\n",
       "\n",
       "    .dataframe thead th {\n",
       "        text-align: right;\n",
       "    }\n",
       "</style>\n",
       "<table border=\"1\" class=\"dataframe\">\n",
       "  <thead>\n",
       "    <tr style=\"text-align: right;\">\n",
       "      <th></th>\n",
       "      <th>LOC</th>\n",
       "      <th>FUR</th>\n",
       "      <th>AMB</th>\n",
       "      <th>PROX_SCH</th>\n",
       "      <th>PROX_ROAD</th>\n",
       "      <th>PROX_MALL</th>\n",
       "      <th>WATER</th>\n",
       "      <th>HK_SER</th>\n",
       "      <th>SIZE</th>\n",
       "      <th>PRICE</th>\n",
       "    </tr>\n",
       "  </thead>\n",
       "  <tbody>\n",
       "    <tr>\n",
       "      <th>0</th>\n",
       "      <td>karen</td>\n",
       "      <td>yes</td>\n",
       "      <td>serene</td>\n",
       "      <td>no</td>\n",
       "      <td>yes</td>\n",
       "      <td>yes</td>\n",
       "      <td>yes</td>\n",
       "      <td>yes</td>\n",
       "      <td>32.502345</td>\n",
       "      <td>31.707006</td>\n",
       "    </tr>\n",
       "    <tr>\n",
       "      <th>1</th>\n",
       "      <td>madaraka</td>\n",
       "      <td>yes</td>\n",
       "      <td>semi_serene</td>\n",
       "      <td>yes</td>\n",
       "      <td>yes</td>\n",
       "      <td>yes</td>\n",
       "      <td>no</td>\n",
       "      <td>no</td>\n",
       "      <td>53.426804</td>\n",
       "      <td>68.777596</td>\n",
       "    </tr>\n",
       "    <tr>\n",
       "      <th>2</th>\n",
       "      <td>karen</td>\n",
       "      <td>no</td>\n",
       "      <td>noisy</td>\n",
       "      <td>no</td>\n",
       "      <td>yes</td>\n",
       "      <td>yes</td>\n",
       "      <td>yes</td>\n",
       "      <td>yes</td>\n",
       "      <td>61.530358</td>\n",
       "      <td>62.562382</td>\n",
       "    </tr>\n",
       "    <tr>\n",
       "      <th>3</th>\n",
       "      <td>karen</td>\n",
       "      <td>yes</td>\n",
       "      <td>semi_serene</td>\n",
       "      <td>no</td>\n",
       "      <td>no</td>\n",
       "      <td>no</td>\n",
       "      <td>yes</td>\n",
       "      <td>yes</td>\n",
       "      <td>47.475640</td>\n",
       "      <td>71.546632</td>\n",
       "    </tr>\n",
       "    <tr>\n",
       "      <th>4</th>\n",
       "      <td>buruburu</td>\n",
       "      <td>no</td>\n",
       "      <td>semi_serene</td>\n",
       "      <td>no</td>\n",
       "      <td>yes</td>\n",
       "      <td>yes</td>\n",
       "      <td>yes</td>\n",
       "      <td>yes</td>\n",
       "      <td>59.813208</td>\n",
       "      <td>87.230925</td>\n",
       "    </tr>\n",
       "  </tbody>\n",
       "</table>\n",
       "</div>"
      ],
      "text/plain": [
       "        LOC  FUR          AMB PROX_SCH PROX_ROAD PROX_MALL WATER HK_SER  \\\n",
       "0     karen  yes       serene       no       yes       yes   yes    yes   \n",
       "1  madaraka  yes  semi_serene      yes       yes       yes    no     no   \n",
       "2     karen   no        noisy       no       yes       yes   yes    yes   \n",
       "3     karen  yes  semi_serene       no        no        no   yes    yes   \n",
       "4  buruburu   no  semi_serene       no       yes       yes   yes    yes   \n",
       "\n",
       "        SIZE      PRICE  \n",
       "0  32.502345  31.707006  \n",
       "1  53.426804  68.777596  \n",
       "2  61.530358  62.562382  \n",
       "3  47.475640  71.546632  \n",
       "4  59.813208  87.230925  "
      ]
     },
     "execution_count": 72,
     "metadata": {},
     "output_type": "execute_result"
    }
   ],
   "source": [
    "df = pd.read_csv(\"Nairobi Office Price Ex.csv\")\n",
    "df.head()"
   ]
  },
  {
   "cell_type": "code",
   "execution_count": 73,
   "id": "2f009c62",
   "metadata": {},
   "outputs": [],
   "source": [
    "df = pd.read_csv(\"Nairobi Office Price Ex.csv\")\n",
    "x = df['SIZE'].values\n",
    "y = df['PRICE'].values"
   ]
  },
  {
   "cell_type": "code",
   "execution_count": 74,
   "id": "f0f0a77b",
   "metadata": {},
   "outputs": [
    {
     "data": {
      "image/png": "[encoded data removed]",
      "text/plain": [
       "<Figure size 640x480 with 1 Axes>"
      ]
     },
     "metadata": {},
     "output_type": "display_data"
    }
   ],
   "source": [
    "import matplotlib.pyplot as plt\n",
    "\n",
    "plt.scatter(x,y)\n",
    "plt.xlabel('Office Size')\n",
    "plt.ylabel('Office Price') \n",
    "plt.title('Office Size vs Office Price')\n",
    "plt.show()"
   ]
  },
  {
   "cell_type": "code",
   "execution_count": 75,
   "id": "ac72cd3f",
   "metadata": {},
   "outputs": [
    {
     "data": {
      "image/png": "[encoded data removed]",
      "text/plain": [
       "<Figure size 640x480 with 1 Axes>"
      ]
     },
     "metadata": {},
     "output_type": "display_data"
    }
   ],
   "source": [
    "from sklearn.linear_model import LinearRegression\n",
    "\n",
    "linear_model = LinearRegression().fit(x.reshape((-1,1)),y)\n",
    "\n",
    "dummy_inputs = np.linspace(0, 7000, num=2000)\n",
    "dummy_predictions = linear_model.predict(dummy_inputs.reshape((-1,1)))\n",
    "\n",
    "plt.scatter(x,y,label='Data')\n",
    "plt.plot(dummy_inputs, dummy_predictions, label='Linear Model' , color = 'red')\n",
    "plt.xlabel('Office Size')\n",
    "plt.ylabel('Office Price')\n",
    "plt.title('Office Size vs Office Price')\n",
    "plt.legend()\n",
    "plt.show()"
   ]
  },
  {
   "cell_type": "code",
   "execution_count": 76,
   "id": "d146247c",
   "metadata": {},
   "outputs": [
    {
     "name": "stdout",
     "output_type": "stream",
     "text": [
      "Total Absolute Error: 98.36\n"
     ]
    }
   ],
   "source": [
    "x = np.sum(np.abs(linear_model.predict(x.reshape((-1,1)))-y))\n",
    "\n",
    "print(f\"Total Absolute Error: {x:,.2f}\")"
   ]
  },
  {
   "cell_type": "code",
   "execution_count": 77,
   "id": "36d21ee4",
   "metadata": {},
   "outputs": [
    {
     "name": "stdout",
     "output_type": "stream",
     "text": [
      "(array([132.95575108]), array([31.70700585, 68.77759598, 62.5623823 , 71.54663223, 87.23092513,\n",
      "       78.21151827, 79.64197305, 59.17148932, 75.3312423 , 71.30087989,\n",
      "       55.16567715, 82.47884676, 62.00892325, 75.39287043]))\n"
     ]
    }
   ],
   "source": [
    "from sklearn.metrics import mean_absolute_error as mae\n",
    "mae = (linear_model.predict(x.reshape((-1,1))), y)\n",
    "print(mae)"
   ]
  },
  {
   "cell_type": "code",
   "execution_count": 85,
   "id": "5430e094",
   "metadata": {},
   "outputs": [],
   "source": [
    "def compute_mse(y_true, y_pred):\n",
    "    mse = np.mean((y_true - y_pred) ** 2)\n",
    "    return mse\n"
   ]
  },
  {
   "cell_type": "code",
   "execution_count": 86,
   "id": "e9964045",
   "metadata": {},
   "outputs": [],
   "source": [
    "n = len(y)\n",
    "m = np.random.rand() \n",
    "c = np.random.rand()  \n",
    "learning_rate = 0.01 \n",
    "epochs = 10  "
   ]
  },
  {
   "cell_type": "code",
   "execution_count": 87,
   "id": "20ec0451",
   "metadata": {},
   "outputs": [],
   "source": [
    "for epoch in range(epochs):\n",
    "    y = m * x + c\n",
    "    "
   ]
  },
  {
   "cell_type": "code",
   "execution_count": 88,
   "id": "232f685b",
   "metadata": {},
   "outputs": [
    {
     "name": "stdout",
     "output_type": "stream",
     "text": [
      "Predicted price for an office size of 100 sq. ft.: 45.22\n"
     ]
    }
   ],
   "source": [
    "size_to_predict = 100\n",
    "predicted_price = m * size_to_predict + c\n",
    "print(f\"Predicted price for an office size of {size_to_predict} sq. ft.: {predicted_price:.2f}\")"
   ]
  },
  {
   "cell_type": "code",
   "execution_count": null,
   "id": "0dfb2dde",
   "metadata": {},
   "outputs": [],
   "source": []
  }
 ],
 "metadata": {
  "kernelspec": {
   "display_name": "Python 3 (ipykernel)",
   "language": "python",
   "name": "python3"
  },
  "language_info": {
   "codemirror_mode": {
    "name": "ipython",
    "version": 3
   },
   "file_extension": ".py",
   "mimetype": "text/x-python",
   "name": "python",
   "nbconvert_exporter": "python",
   "pygments_lexer": "ipython3",
   "version": "3.11.7"
  }
 },
 "nbformat": 4,
 "nbformat_minor": 5
}
